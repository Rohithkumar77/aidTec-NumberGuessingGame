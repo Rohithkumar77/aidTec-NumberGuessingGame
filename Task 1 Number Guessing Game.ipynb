{
 "cells": [
  {
   "cell_type": "code",
   "execution_count": 1,
   "id": "72e53fc7",
   "metadata": {},
   "outputs": [
    {
     "name": "stdout",
     "output_type": "stream",
     "text": [
      "Please Enter your nameRohith Kumar\n",
      "Welcome to Number Guesssing Game! Rohith Kumar\n",
      "What's Your guess?:23\n",
      "Your guess id too low.Try Once Again\n",
      "What's Your guess?:34\n",
      "Your guess id too low.Try Once Again\n",
      "What's Your guess?:31\n",
      "Your guess id too low.Try Once Again\n",
      "What's Your guess?:45\n",
      "Your guess id too low.Try Once Again\n",
      "What's Your guess?:67\n",
      "Your guess id too low.Try Once Again\n",
      "What's Your guess?:78\n",
      "Your guess id too high.Try Once Again \n",
      "What's Your guess?:76\n",
      "Your guess id too high.Try Once Again \n",
      "What's Your guess?:73\n",
      "Your guess id too high.Try Once Again \n",
      "What's Your guess?:69\n",
      "Your guess id too low.Try Once Again\n",
      "What's Your guess?:70\n",
      "Your guess id too low.Try Once Again\n",
      "Sorry, You lose,you didn't guess the number\n"
     ]
    }
   ],
   "source": [
    "import random\n",
    "no_of_guesses=10\n",
    "name=input(\"Please Enter your name\")\n",
    "print(f\"Welcome to Number Guesssing Game! {name}\")\n",
    "n=random.randint(1,100)\n",
    "for i in range(no_of_guesses):\n",
    "    guess=int(input(\"What's Your guess?:\"))\n",
    "    if guess==n:\n",
    "        print(\"Congratulations, you guessed the number right,would you like to play again:\")\n",
    "        break\n",
    "    else:\n",
    "        if guess>n:\n",
    "            print(\"Your guess id too high.Try Once Again \")\n",
    "        else:\n",
    "            print(\"Your guess id too low.Try Once Again\")\n",
    "if guess !=n:\n",
    "    print(\"Sorry, You lose,you didn't guess the number\")"
   ]
  },
  {
   "cell_type": "code",
   "execution_count": null,
   "id": "e387a9f5",
   "metadata": {},
   "outputs": [],
   "source": []
  }
 ],
 "metadata": {
  "kernelspec": {
   "display_name": "Python 3 (ipykernel)",
   "language": "python",
   "name": "python3"
  },
  "language_info": {
   "codemirror_mode": {
    "name": "ipython",
    "version": 3
   },
   "file_extension": ".py",
   "mimetype": "text/x-python",
   "name": "python",
   "nbconvert_exporter": "python",
   "pygments_lexer": "ipython3",
   "version": "3.10.9"
  }
 },
 "nbformat": 4,
 "nbformat_minor": 5
}
